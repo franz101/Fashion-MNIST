{
 "cells": [
  {
   "cell_type": "code",
   "execution_count": 3,
   "metadata": {},
   "outputs": [],
   "source": [
    "import numpy as np\n",
    "from utils import *\n",
    "import matplotlib.pyplot as plt\n",
    "%matplotlib inline"
   ]
  },
  {
   "cell_type": "code",
   "execution_count": 27,
   "metadata": {},
   "outputs": [],
   "source": [
    "X_train, Y_train = load_fashion_mnist(\"./fashionmnist/\", kind = 'train')\n",
    "X_test, Y_test = load_fashion_mnist(\"./fashionmnist/\", kind = 't10k')"
   ]
  },
  {
   "cell_type": "code",
   "execution_count": 30,
   "metadata": {},
   "outputs": [
    {
     "data": {
      "image/png": "[encoded data removed]",
      "text/plain": [
       "<Figure size 432x288 with 1 Axes>"
      ]
     },
     "metadata": {},
     "output_type": "display_data"
    }
   ],
   "source": [
    "plt.imshow(X_train[5].reshape((28,28)), cmap=\"gist_gray\")\n",
    "plt.show()"
   ]
  },
  {
   "cell_type": "code",
   "execution_count": 37,
   "metadata": {},
   "outputs": [
    {
     "data": {
      "image/png": "[encoded data removed]",
      "text/plain": [
       "<Figure size 432x288 with 1 Axes>"
      ]
     },
     "metadata": {},
     "output_type": "display_data"
    }
   ],
   "source": [
    "test = X_train[6].reshape((28,28))\n",
    "test = 255 -test\n",
    "plt.imshow(test, cmap=\"gist_gray\")\n",
    "plt.show()"
   ]
  },
  {
   "cell_type": "code",
   "execution_count": 36,
   "metadata": {},
   "outputs": [
    {
     "data": {
      "text/plain": [
       "[0, 27, 13.548843187660669, 115755, 27, 750, 1]"
      ]
     },
     "execution_count": 36,
     "metadata": {},
     "output_type": "execute_result"
    }
   ],
   "source": [
    "def limits(mask):\n",
    "\t# Compute some basic cross-section quantities:\n",
    "\t# left edge, right edge, center, span, width, number of gaps/holes, and width of largest hole.\n",
    "\tif not mask.any():\n",
    "\t\treturn [0, 99, 99, 99, 0, 99, 99]\n",
    "\tindices = np.where(mask)[0]\n",
    "\tlo, hi = np.min(indices), np.max(indices)\n",
    "\twidth_filled = np.sum(mask)\n",
    "\twidth_total = hi - lo\n",
    "\tmean = np.mean(indices)\n",
    "\tngaps = np.sum(indices[1:] - indices[:-1] != 1)\n",
    "\tif len(indices) > 1:\n",
    "\t\tlargestgapsize = np.max(indices[1:] - indices[:-1])\n",
    "\telse:\n",
    "\t\tlargestgapsize = 1\n",
    "\treturn [lo, hi, mean, width_filled, width_total, ngaps, largestgapsize]\n",
    "\n",
    "limits(test)"
   ]
  },
  {
   "cell_type": "code",
   "execution_count": 38,
   "metadata": {},
   "outputs": [
    {
     "data": {
      "text/plain": [
       "[0, 27, 13.491048593350383, 167394, 27, 754, 1]"
      ]
     },
     "execution_count": 38,
     "metadata": {},
     "output_type": "execute_result"
    }
   ],
   "source": [
    "limits(test)"
   ]
  },
  {
   "cell_type": "code",
   "execution_count": 70,
   "metadata": {},
   "outputs": [],
   "source": [
    "def imagefeature(img):\n",
    "    # calls the above function with a few thresholds\n",
    "    # lets measure a few things:\n",
    "    img_mid = np.median(img)\n",
    "    img_max = np.max(img)\n",
    "    thresh_lo = img_mid - 3 * np.std(img[img <= img_mid])\n",
    "    thresh_hi = img_max / 3.\n",
    "    thresh_vhi = img_max * 3. / 4.\n",
    "    features = []\n",
    "    #print(thresh_lo, thresh_hi, thresh_vhi)\n",
    "    for thresh in thresh_lo, thresh_hi, thresh_vhi:\n",
    "        mask = img > thresh\n",
    "        x = np.any(mask, axis=1)\n",
    "        xlo, xhi, _, _, _, _, _ = limits(x)\n",
    "        #print(mask)\n",
    "        y = np.any(mask, axis=0)\n",
    "        ylo, yhi, _, _, _, _, _ = limits(y)\n",
    "        # measure width at 1/6, 2/6, 3/6, 4/6, 5/6\n",
    "        # measure also the the number of holes\n",
    "        features += limits(mask[:,int(ylo*5/6.+yhi*1/6.)])\n",
    "        features += limits(mask[:,int(ylo*4/6.+yhi*2/6.)])\n",
    "        features += limits(mask[:,int(ylo*3/6.+yhi*3/6.)])\n",
    "        features += limits(mask[:,int(ylo*2/6.+yhi*4/6.)])\n",
    "        features += limits(mask[:,int(ylo*1/6.+yhi*5/6.)])\n",
    "        features += limits(mask[int(xlo*5/6.+xhi*1/6.),:])\n",
    "        features += limits(mask[int(xlo*4/6.+xhi*2/6.),:])\n",
    "        features += limits(mask[int(xlo*3/6.+xhi*3/6.),:])\n",
    "        features += limits(mask[int(xlo*2/6.+xhi*4/6.),:])\n",
    "        features += limits(mask[int(xlo*1/6.+xhi*5/6.),:])\n",
    "        # 0123456789\n",
    "\n",
    "        # mark the quadrant where most ink is\n",
    "        i, j = np.where(mask)\n",
    "        #ictr = (numpy.mean(i) - (xhi+xlo)/2.) / (xhi - xlo+1)\n",
    "        ictr = int(np.mean(i))\n",
    "        #jctr = (numpy.mean(j) - (yhi+ylo)/2.) / (yhi - xlo+1)\n",
    "        jctr = int(np.mean(j))\n",
    "        features += [int(ictr), int(jctr)]\n",
    "    return features"
   ]
  },
  {
   "cell_type": "code",
   "execution_count": 75,
   "metadata": {},
   "outputs": [],
   "source": [
    "#!pip install opencv-python"
   ]
  },
  {
   "cell_type": "code",
   "execution_count": 80,
   "metadata": {},
   "outputs": [
    {
     "name": "stderr",
     "output_type": "stream",
     "text": [
      "/opt/conda/lib/python3.6/site-packages/h5py/__init__.py:36: FutureWarning: Conversion of the second argument of issubdtype from `float` to `np.floating` is deprecated. In future, it will be treated as `np.float64 == np.dtype(float).type`.\n",
      "  from ._conv import register_converters as _register_converters\n"
     ]
    }
   ],
   "source": [
    "import tensorflow as tf"
   ]
  },
  {
   "cell_type": "code",
   "execution_count": 81,
   "metadata": {},
   "outputs": [
    {
     "ename": "SyntaxError",
     "evalue": "invalid syntax (<ipython-input-81-17fae983487e>, line 1)",
     "output_type": "error",
     "traceback": [
      "\u001b[0;36m  File \u001b[0;32m\"<ipython-input-81-17fae983487e>\"\u001b[0;36m, line \u001b[0;32m1\u001b[0m\n\u001b[0;31m    tf.contrib.keras.preprocessing.image.\u001b[0m\n\u001b[0m                                         ^\u001b[0m\n\u001b[0;31mSyntaxError\u001b[0m\u001b[0;31m:\u001b[0m invalid syntax\n"
     ]
    }
   ],
   "source": [
    "tf.contrib.keras.preprocessing.image."
   ]
  }
 ],
 "metadata": {
  "kernelspec": {
   "display_name": "Python 3",
   "language": "python",
   "name": "python3"
  },
  "language_info": {
   "codemirror_mode": {
    "name": "ipython",
    "version": 3
   },
   "file_extension": ".py",
   "mimetype": "text/x-python",
   "name": "python",
   "nbconvert_exporter": "python",
   "pygments_lexer": "ipython3",
   "version": "3.6.5"
  }
 },
 "nbformat": 4,
 "nbformat_minor": 2
}
