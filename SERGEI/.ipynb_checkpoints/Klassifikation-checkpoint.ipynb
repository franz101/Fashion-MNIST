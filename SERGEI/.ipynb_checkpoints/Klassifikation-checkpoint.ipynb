{
 "cells": [
  {
   "cell_type": "code",
   "execution_count": 2,
   "metadata": {},
   "outputs": [
    {
     "name": "stdout",
     "output_type": "stream",
     "text": [
      "15 0 0.43333333333333335\n",
      "[[5. 3. 2.]\n",
      " [1. 5. 4.]\n",
      " [2. 5. 3.]]\n"
     ]
    }
   ],
   "source": [
    "# -*- coding: utf-8 -*-\n",
    "\"\"\"\n",
    "Created on Mon Nov  6 18:31:36 2017\n",
    "\n",
    "@author: wilms\n",
    "\"\"\"\n",
    "\n",
    "import numpy as np\n",
    "\n",
    "def vergleicheHist(mode, h1, h2): #ueber den Parameter mode laesst sich zwischen euklidischer Distanz und Intersection auswaehlen\n",
    "    if mode == 'i':\n",
    "        return 1-np.sum(np.minimum(h1,h2))/float(np.sum(h1))#Formel für die Intersection siehe Folie 22, np.minimum ermittelt die paarweisen Minima zweier gleich geformter Arrays\n",
    "    if mode == 'e':\n",
    "        return np.linalg.norm(h1-h2)#numpy-Funktion zur Berechnung der euklidischen Distanz, sofern die Eingabe ein Array mit nur einer Dimension ist\n",
    "    \n",
    "    \n",
    "def getMerkmal(img, feature,n):\n",
    "    if feature == 'mean':\n",
    "        return np.mean(img)\n",
    "    if feature == 'std':\n",
    "        return np.std(img)\n",
    "    if feature == 'mean+std':\n",
    "        return np.array([np.mean(img),np.std(img)]) \n",
    "    if feature == 'histogram1D':\n",
    "        return np.histogram(img, bins = n, range=(0,256))[0]\n",
    "\n",
    "d = np.load('./trainingsDaten2.npz')\n",
    "trImgs = d['data']\n",
    "trLabels = d['labels']\n",
    "\n",
    "d = np.load('./validierungsDaten2.npz')\n",
    "vaImgs = d['data']\n",
    "vaLabels = d['labels']\n",
    "\n",
    "n = 15\n",
    "\n",
    "trMerkmale = [] #leere Listen, in die die Merkmale abgelegt werden\n",
    "vaMerkmale = [] #zwei Listen pro Bild, um mehrere Merkmale miteinander gewichten zu können\n",
    "trMerkmale2 = [] \n",
    "vaMerkmale2 = []\n",
    "for img in trImgs: #fuer jedes Trainingsbild einen Deskriptor berechnen und diesen an die Liste anhaengen\n",
    "    trMerkmale.append(getMerkmal(img, 'mean+std',n))\n",
    "    trMerkmale2.append(getMerkmal(img, 'std',0))\n",
    "    \n",
    "for img in vaImgs:\n",
    "    vaMerkmale.append(getMerkmal(img, 'mean+std',n))\n",
    "    vaMerkmale2.append(getMerkmal(img, 'std',0))\n",
    "    \n",
    "\n",
    "W = 0\n",
    "result = []\n",
    "\n",
    "for vaM,vaM2 in zip(vaMerkmale,vaMerkmale2): #fuer jedes Validierungsbild bzw. dessen Merkmale\n",
    "    distances = [] #initialisiere eine Liste, die die Distanzen zwischen einem Validierungsbild und den verschiedenen Trainingsbildern aufnimmt\n",
    "    for trM,trM2 in zip(trMerkmale,trMerkmale2): #fuer jedes Trainingsbild bzw. dessen Merkmale\n",
    "        distances.append(np.linalg.norm(vaM-trM)+W*np.linalg.norm(vaM2-trM2))#berechne euklidische Distanz zwischen den Merkmalem (ggf. gewichtet) und haenge sie an die Liste an\n",
    "#        distances.append(vergleicheHist('e',vaM,trM)) #Vergleich fuer Histogramme\n",
    "    result.append(trLabels[np.argmin(distances)]) #argmin gibt den Index der kleinsten Distanz zurueck, der dem Index des am besten passenden Trainingsbildes entspricht\n",
    "    #mit dem Index kann das Labels dieses Trainingsbildes geholt werden, was der Vorhersage entspricht\n",
    "\n",
    "correct = 0.0\n",
    "for vorhersage, groundTruth in zip(result,vaLabels): #fuer jede vorhersage und jedes wirkliche Label\n",
    "    if vorhersage == groundTruth: \n",
    "        correct+=1 #zahle die korrekten Zuordnungen\n",
    "        \n",
    "acc = correct/len(vaLabels) #hier muss einer der beiden Teile ein float sein, sonst bekommt man nur 0 oder 1\n",
    "\n",
    "print(n,W, acc)\n",
    "\n",
    "confusionMatrix = np.zeros((3,3))  #erstellt ein Array der Groesse 3x3 mit Nullen gefuellt\n",
    "for vorhersage, groundTruth in zip(result,vaLabels): \n",
    "    indexV = int(vorhersage/4) #Ganzzahldivision durch 4, damit Label 1 auf Index 0, Label 4 auf Index 4 und Label 8 auf Index 2 abgebildet wird\n",
    "    indexGT = int(groundTruth/4)\n",
    "    confusionMatrix[indexGT,indexV]+=1\n",
    "print(confusionMatrix)"
   ]
  }
 ],
 "metadata": {
  "kernelspec": {
   "display_name": "Python 3",
   "language": "python",
   "name": "python3"
  },
  "language_info": {
   "codemirror_mode": {
    "name": "ipython",
    "version": 3
   },
   "file_extension": ".py",
   "mimetype": "text/x-python",
   "name": "python",
   "nbconvert_exporter": "python",
   "pygments_lexer": "ipython3",
   "version": "3.6.5"
  }
 },
 "nbformat": 4,
 "nbformat_minor": 2
}
