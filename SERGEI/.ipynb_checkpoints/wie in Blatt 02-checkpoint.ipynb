{
 "cells": [
  {
   "cell_type": "code",
   "execution_count": 5,
   "metadata": {},
   "outputs": [
    {
     "ename": "IndexError",
     "evalue": "too many indices for array",
     "output_type": "error",
     "traceback": [
      "\u001b[0;31m---------------------------------------------------------------------------\u001b[0m",
      "\u001b[0;31mIndexError\u001b[0m                                Traceback (most recent call last)",
      "\u001b[0;32m<ipython-input-5-61ca10014d53>\u001b[0m in \u001b[0;36m<module>\u001b[0;34m()\u001b[0m\n\u001b[1;32m     17\u001b[0m \u001b[0mfig\u001b[0m\u001b[0;34m,\u001b[0m \u001b[0max\u001b[0m \u001b[0;34m=\u001b[0m \u001b[0mplt\u001b[0m\u001b[0;34m.\u001b[0m\u001b[0msubplots\u001b[0m\u001b[0;34m(\u001b[0m\u001b[0;36m3\u001b[0m\u001b[0;34m,\u001b[0m \u001b[0;36m4\u001b[0m\u001b[0;34m,\u001b[0m\u001b[0mfigsize\u001b[0m \u001b[0;34m=\u001b[0m \u001b[0;34m(\u001b[0m\u001b[0;36m10\u001b[0m\u001b[0;34m,\u001b[0m\u001b[0;36m8\u001b[0m\u001b[0;34m)\u001b[0m\u001b[0;34m)\u001b[0m\u001b[0;34m\u001b[0m\u001b[0m\n\u001b[1;32m     18\u001b[0m \u001b[0moutfile\u001b[0m \u001b[0;34m=\u001b[0m \u001b[0mimageio\u001b[0m\u001b[0;34m.\u001b[0m\u001b[0mimread\u001b[0m\u001b[0;34m(\u001b[0m\u001b[0;34m'./outfile.jpg'\u001b[0m\u001b[0;34m)\u001b[0m\u001b[0;34m\u001b[0m\u001b[0m\n\u001b[0;32m---> 19\u001b[0;31m \u001b[0moutfile_rot\u001b[0m \u001b[0;34m=\u001b[0m \u001b[0moutfile\u001b[0m\u001b[0;34m[\u001b[0m\u001b[0;34m:\u001b[0m\u001b[0;34m,\u001b[0m\u001b[0;34m:\u001b[0m\u001b[0;34m,\u001b[0m\u001b[0;36m0\u001b[0m\u001b[0;34m]\u001b[0m\u001b[0;34m\u001b[0m\u001b[0m\n\u001b[0m\u001b[1;32m     20\u001b[0m \u001b[0;34m\u001b[0m\u001b[0m\n\u001b[1;32m     21\u001b[0m \u001b[0;31m#2.\u001b[0m\u001b[0;34m\u001b[0m\u001b[0;34m\u001b[0m\u001b[0m\n",
      "\u001b[0;31mIndexError\u001b[0m: too many indices for array"
     ]
    },
    {
     "data": {
      "image/png": "[encoded data removed]",
      "text/plain": [
       "<Figure size 720x576 with 12 Axes>"
      ]
     },
     "metadata": {},
     "output_type": "display_data"
    }
   ],
   "source": [
    "# -*- coding: utf-8 -*-\n",
    "\"\"\"\n",
    "Created on Thu Apr 19 14:54:31 2018\n",
    "\n",
    "@author: 6Zhilins\n",
    "\"\"\"\n",
    "import numpy as np\n",
    "import pandas as pd\n",
    "import time\n",
    "\n",
    "# Aufgabe 1\n",
    "import imageio\n",
    "import numpy as np\n",
    "import matplotlib.pyplot as plt\n",
    "\n",
    "plt.close('all')\n",
    "fig, ax = plt.subplots(3, 4,figsize = (10,8))\n",
    "outfile = imageio.imread('./outfile.png')\n",
    "outfile_rot = outfile[:,:,0]\n",
    "\n",
    "#2.\n",
    "outfile_blau = outfile[:,:,1]\n",
    "outfile_gruen = outfile[:,:,2]\n",
    "outfile_rgb = outfile_rot/3 + outfile_blau/3 + outfile_gruen/3\n",
    "    \n",
    "outfile_mean = np.sum(outfile_rgb,axis=(0,1))/3\n",
    "ax[0,0].imshow(outfile) #normal plotten\n",
    "ax[0,0].set_title('Bild') #einen sinnvollen Titel setzen\n",
    "# 3.\n",
    "ax[0,1].imshow(outfile_rot, cmap='Greys_r') #normal plotten\n",
    "ax[0,1].set_title('Rot') #einen sinnvollen Titel setzen\n",
    "ax[0,2].imshow(outfile_blau, cmap='Greys_r') #normal plotten\n",
    "ax[0,2].set_title('Blau') #einen sinnvollen Titel setzen\n",
    "ax[0,3].imshow(outfile_gruen, cmap='Greys_r') #normal plotten\n",
    "ax[0,3].set_title('Gruen') #einen sinnvollen Titel setzen\n",
    "ax[1,0].imshow(outfile_rgb, cmap='Greys_r') #normal plotten\n",
    "ax[1,0].set_title('Mittelwert') #einen sinnvollen Titel setzen\n",
    "# 4. \n",
    "outfile_shuffle = outfile.copy()\n",
    "outfile_shuffle[:,:,0] = outfile[:,:,1]\n",
    "outfile_shuffle[:,:,1] =outfile[:,:,2]\n",
    "outfile_shuffle[:,:,2] = outfile[:,:,0]\n",
    "# TODO: https://docs.scipy.org/doc/numpy/reference/generated/numpy.random.shuffle.html\n",
    "ax[1,1].imshow(outfile_shuffle) #normal plotten\n",
    "ax[1,1].set_title('Random') #einen sinnvollen Titel setzen\n",
    "\n",
    "#5. Negativ\n",
    "ax[1,2].imshow(255-outfile) #normal plotten\n",
    "ax[1,2].set_title('Inverse')\n",
    "#6.\n",
    "print(np.mean(outfile))\n",
    "print(np.std(outfile))\n",
    "\n",
    "#2. Laden der Daten:\n",
    "d = np.load('./trainingsDatenFarbe2.npz')\n",
    "train_imgs = d['data']\n",
    "train_labels = d['labels']\n",
    "\n",
    "t = np.load('./validierungsDatenFarbe2.npz')\n",
    "test_imgs = t['data']\n",
    "test_labels = t['labels']\n",
    "\n",
    "ax[1,3].imshow(train_imgs[0]) #normal plotten\n",
    "ax[1,3].set_title('Auto')"
   ]
  },
  {
   "cell_type": "code",
   "execution_count": null,
   "metadata": {},
   "outputs": [],
   "source": [
    "#2. Berechnet zu jedem Bild den Mittelwert als Merkmal.\n",
    "np.mean(train_imgs,(3,2,0))"
   ]
  },
  {
   "cell_type": "code",
   "execution_count": null,
   "metadata": {},
   "outputs": [],
   "source": [
    "#3. Nutzt das Merkmal/die Merkmale als Deskriptor und findet zu jedem Bild aus den Validierungsdaten das am besten passende Bild aus den Trainingsdaten und speichert das entsprechende Label als Vorhersage. Vergleicht dazu die jeweiligen Deskriptoren und berechnet den Abstand mit der L2-Distanz (Euklidische Distanz).\n",
    "np.mean(test_imgs,(3,2,0))"
   ]
  },
  {
   "cell_type": "code",
   "execution_count": null,
   "metadata": {},
   "outputs": [],
   "source": [
    "\n",
    "#5. Zusatzaufgabe: Nutzt auch die Standardabweichung und kombiniert beide Merkmale zu einem Deskriptor. Bringt die gewichtete Distanzbe- rechnung einen Vorteil?"
   ]
  },
  {
   "cell_type": "code",
   "execution_count": null,
   "metadata": {},
   "outputs": [],
   "source": [
    "#1.3. \n",
    "def predict_mean(train,test,train_labels):\n",
    "    # Ein Array Umwandeln in 2D und dabei die erste Reihe wiederholen.\n",
    "    test_matrix = np.tile(test,([len(train),1])).T\n",
    "    # Euklidische Distanz ausrechnen (Absolute umgeht Wurzel und Quadrat)\n",
    "    test_distance_matrix = np.absolute(test_matrix - train)\n",
    "    # Indice der kleinsten Werte anzeigen lassen\n",
    "    indices = np.argmin(test_distance_matrix,1) \n",
    "    # Werte der Indice ausgeben\n",
    "    \n",
    "    return np.take(train_labels, indices)"
   ]
  },
  {
   "cell_type": "code",
   "execution_count": null,
   "metadata": {},
   "outputs": [],
   "source": [
    "#1.4.\n",
    "test_data_mean = np.mean(test_imgs,(1,2,3))\n",
    "train_data_mean = np.mean(train_imgs,(1,2,3))\n",
    "prediction_labels =  predict_mean(train_data_mean,test_data_mean,train_labels)\n",
    "np.mean(prediction_labels == test_labels)\n",
    "\n",
    "# Das Ergebnis ist inakzeptabel da es größer als 1/3 sein sollte."
   ]
  },
  {
   "cell_type": "code",
   "execution_count": null,
   "metadata": {},
   "outputs": [],
   "source": [
    "#1.5\n",
    "train_data_std = np.std(train_imgs,axis=(1,2,3))\n",
    "test_data_std = np.std(test_imgs,axis=(1,2,3))\n",
    "train_mean_std = np.column_stack((train_data_mean,train_data_std))\n",
    "test_mean_std = np.column_stack((test_data_mean,test_data_std))\n",
    "\n",
    "def predict_mean_std(train,test,train_labels):\n",
    "    test_matrix = np.tile(test, (30,2,1,))\n",
    "    train_matrix = np.tile(train,(len(test))).reshape((30, 60, 2))\n",
    "    # Euklidische Distanz ausrechnen (Absolute umgeht Wurzel und Quadrat)\n",
    "    test_distance_matrix = np.absolute(test_matrix-train_matrix).sum(axis=2)\n",
    "    # Indice der kleinsten Werte anzeigen lassen\n",
    "    indices = np.argmin(test_distance_matrix,1) \n",
    "    # Werte der Indice ausgeben\n",
    "    prediction_labels = np.take(train_labels, indices)\n",
    "    return prediction_labels\n",
    "\n",
    "prediction_labels = predict_mean_std(train_mean_std, test_mean_std, train_labels)\n",
    "np.mean(prediction_labels == test_labels)\n",
    "# Das Ergebnis ist besser da es größer als 1/3 ist."
   ]
  },
  {
   "cell_type": "code",
   "execution_count": null,
   "metadata": {},
   "outputs": [],
   "source": [
    "def predict(test_imgs,train_imgs,train_labels,test_labels,bins = 8):\n",
    "    train_data_histo = []\n",
    "    for img in train_imgs:\n",
    "        img = img.reshape((img.shape[0]*img.shape[1],3))\n",
    "        histo = np.histogramdd(img, bins = [bins,bins,bins], range=((0,256),(0,256),(0,256)))[0]\n",
    "        train_data_histo.append(histo)\n",
    "\n",
    "    test_data_histo = []\n",
    "    for img in test_imgs:\n",
    "        img = img.reshape((img.shape[0]*img.shape[1],3))\n",
    "        histo = np.histogramdd(img, bins = [bins,bins,bins], range=((0,256),(0,256),(0,256)))[0]\n",
    "        test_data_histo.append(histo)\n",
    "\n",
    "    euclidean_distance = []\n",
    "    for test_img in test_data_histo:\n",
    "        result = []\n",
    "        for train_img in train_data_histo:\n",
    "            result.append(np.linalg.norm(test_img - train_img))\n",
    "        euclidean_distance.append(result)\n",
    "    indices = np.argmin(euclidean_distance,1) \n",
    "    # Werte der Indice ausgeben\n",
    "    prediction_labels = np.take(train_labels, indices)\n",
    "    return prediction_labels"
   ]
  },
  {
   "cell_type": "code",
   "execution_count": null,
   "metadata": {},
   "outputs": [],
   "source": [
    "success = 0\n",
    "for bin_num in range(1,256):\n",
    "    predicted_labels = predict(test_imgs,train_imgs,train_labels,test_labels,bins = bin_num)\n",
    "    rate = np.mean(predicted_labels == test_labels)\n",
    "    if rate > success:\n",
    "        success = rate\n",
    "        success_bin = bin_num\n",
    "        prediction = predicted_labels"
   ]
  },
  {
   "cell_type": "code",
   "execution_count": null,
   "metadata": {},
   "outputs": [],
   "source": [
    "success_bin"
   ]
  }
 ],
 "metadata": {
  "kernelspec": {
   "display_name": "Python 3",
   "language": "python",
   "name": "python3"
  },
  "language_info": {
   "codemirror_mode": {
    "name": "ipython",
    "version": 3
   },
   "file_extension": ".py",
   "mimetype": "text/x-python",
   "name": "python",
   "nbconvert_exporter": "python",
   "pygments_lexer": "ipython3",
   "version": "3.6.5"
  }
 },
 "nbformat": 4,
 "nbformat_minor": 2
}
